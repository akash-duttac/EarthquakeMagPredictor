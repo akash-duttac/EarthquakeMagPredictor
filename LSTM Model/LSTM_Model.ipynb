{
  "cells": [
    {
      "cell_type": "code",
      "execution_count": 3,
      "metadata": {
        "id": "bXccjI76-e8n"
      },
      "outputs": [],
      "source": [
        "import pandas as pd\n",
        "import numpy as np\n",
        "import matplotlib.pyplot as plt\n",
        "from sklearn.preprocessing import MinMaxScaler\n",
        "from keras.models import Model\n",
        "from keras.layers import Input, LSTM, Dense, concatenate\n",
        "from sklearn.metrics import mean_squared_error, mean_absolute_error\n",
        "from sklearn.model_selection import train_test_split"
      ]
    },
    {
      "cell_type": "code",
      "execution_count": 4,
      "metadata": {
        "id": "cNCqhGIUH3Ga"
      },
      "outputs": [],
      "source": [
        "# Load the dataset\n",
        "data = pd.read_csv('edata.csv')"
      ]
    },
    {
      "cell_type": "code",
      "execution_count": 5,
      "metadata": {
        "id": "2sTUfu2KDfBc"
      },
      "outputs": [],
      "source": [
        "# Convert Unix Timestamp to datetime (UTC)\n",
        "data['date_time'] = pd.to_datetime(data['Timestamp'], unit='s')"
      ]
    },
    {
      "cell_type": "code",
      "execution_count": 6,
      "metadata": {
        "colab": {
          "base_uri": "https://localhost:8080/"
        },
        "id": "jmw3EmqfDnZ6",
        "outputId": "32919881-b3ea-4ee6-d619-b7ce4e716883"
      },
      "outputs": [],
      "source": [
        "# Select the necessary columns and rename them for consistency\n",
        "data = data[['date_time', 'Mag', 'Depth km']]\n",
        "data.rename(columns={'Mag': 'mag', 'Depth km': 'depth'}, inplace=True)"
      ]
    },
    {
      "cell_type": "code",
      "execution_count": 7,
      "metadata": {
        "id": "rcLmrk_QDtQG"
      },
      "outputs": [],
      "source": [
        "# Drop any rows with missing values\n",
        "data.dropna(inplace=True)"
      ]
    },
    {
      "cell_type": "markdown",
      "metadata": {},
      "source": [
        "## Normalize Magnitude Values\n",
        "Scale the 'mag' column to a range of 0 to 1 using MinMaxScaler to improve model performance.\n",
        "Normalization is important for LSTM networks to ensure efficient training and avoid dominance of higher-valued features."
      ]
    },
    {
      "cell_type": "code",
      "execution_count": 8,
      "metadata": {
        "id": "fAagph1CDv68"
      },
      "outputs": [],
      "source": [
        "# Normalize the 'mag' (magnitude) column\n",
        "scaler = MinMaxScaler()\n",
        "data[['mag']] = scaler.fit_transform(data[['mag']])"
      ]
    },
    {
      "cell_type": "markdown",
      "metadata": {},
      "source": [
        "## Create LSTM Training Dataset\n",
        "Convert the time series data into sequences for LSTM training, using a specified time step window.\n",
        "This function slides over the dataset, taking sequences of `time_steps` length as inputs (Xs) and the corresponding next value as output (ys).\n",
        "Depth values are also stored separately to be used as an additional feature."
      ]
    },
    {
      "cell_type": "code",
      "execution_count": 9,
      "metadata": {
        "id": "b7quuvWkD1Hz"
      },
      "outputs": [],
      "source": [
        "# Use the actual depth values from the dataset (no random values)\n",
        "# If you wish, you can also scale the depth column separately\n",
        "\n",
        "# Function to create dataset for LSTM training\n",
        "def create_dataset(X, y, depth, time_steps=10):\n",
        "    Xs, ys, depths = [], [], []\n",
        "    for i in range(len(X) - time_steps):\n",
        "        Xs.append(X.iloc[i:(i + time_steps)].values)\n",
        "        ys.append(y.iloc[i + time_steps])\n",
        "        depths.append(depth.iloc[i + time_steps])\n",
        "    return np.array(Xs), np.array(ys), np.array(depths)"
      ]
    },
    {
      "cell_type": "code",
      "execution_count": 10,
      "metadata": {
        "id": "SOoIS3TKD-eJ"
      },
      "outputs": [],
      "source": [
        "TIME_STEPS = 10\n",
        "X, y, depth = create_dataset(data[['mag']], data['mag'], data['depth'], TIME_STEPS)"
      ]
    },
    {
      "cell_type": "markdown",
      "metadata": {},
      "source": [
        "## Split Data into Training and Testing Sets\n",
        "Splitting ensures that the model is trained on one part of the dataset and tested on unseen data to evaluate its performance.\n",
        "Here, 80% of the data is used for training and 20% for testing."
      ]
    },
    {
      "cell_type": "code",
      "execution_count": 11,
      "metadata": {
        "id": "cqlPfgQzEBac"
      },
      "outputs": [],
      "source": [
        "# Split the data into training and testing sets\n",
        "X_train, X_test, y_train, y_test, depth_train, depth_test = train_test_split(\n",
        "    X, y, depth, test_size=0.2, random_state=42\n",
        ")"
      ]
    },
    {
      "cell_type": "markdown",
      "metadata": {},
      "source": [
        "## Define the LSTM Model\n",
        "The model consists of two separate inputs:\n",
        "1. `input_mag`: A sequence input for earthquake magnitudes processed through stacked LSTM layers.\n",
        "2. `input_depth`: A single numerical input representing depth, processed through a dense layer.\n",
        "Both inputs are concatenated before passing through the final dense output layer."
      ]
    },
    {
      "cell_type": "code",
      "execution_count": 12,
      "metadata": {
        "id": "C9XnltjkED-i"
      },
      "outputs": [],
      "source": [
        "# Define the model's input layers\n",
        "input_mag = Input(shape=(X_train.shape[1], X_train.shape[2]), name='input_mag')\n",
        "input_depth = Input(shape=(1,), name='input_depth')"
      ]
    },
    {
      "cell_type": "code",
      "execution_count": 13,
      "metadata": {
        "id": "s6zlbjbaEF5l"
      },
      "outputs": [],
      "source": [
        "# Build LSTM layers for the magnitude input\n",
        "lstm_mag = LSTM(units=128, return_sequences=True)(input_mag)\n",
        "lstm_mag = LSTM(units=128, return_sequences=False)(lstm_mag)"
      ]
    },
    {
      "cell_type": "code",
      "execution_count": 14,
      "metadata": {
        "id": "NE_OsFmWEIVL"
      },
      "outputs": [],
      "source": [
        "# Dense layer to process the depth input\n",
        "dense_depth = Dense(units=64, activation='relu')(input_depth)\n"
      ]
    },
    {
      "cell_type": "code",
      "execution_count": 15,
      "metadata": {
        "id": "pxda1PgDELXp"
      },
      "outputs": [],
      "source": [
        "# Concatenate the outputs from the LSTM and the depth branch\n",
        "concatenated = concatenate([lstm_mag, dense_depth])"
      ]
    },
    {
      "cell_type": "code",
      "execution_count": 16,
      "metadata": {
        "id": "qu3UerzUENUs"
      },
      "outputs": [],
      "source": [
        "# Output layer\n",
        "output = Dense(units=1)(concatenated)"
      ]
    },
    {
      "cell_type": "code",
      "execution_count": 17,
      "metadata": {
        "id": "bl_CzOZlEPuP"
      },
      "outputs": [],
      "source": [
        "# Create and compile the model\n",
        "model = Model(inputs=[input_mag, input_depth], outputs=output)\n",
        "model.compile(optimizer='adam', loss='mean_squared_error')"
      ]
    },
    {
      "cell_type": "markdown",
      "metadata": {},
      "source": [
        "## Train the Model\n",
        "Train the LSTM model using the training data with a validation split of 10%.\n",
        "The model is trained for 200 epochs with a batch size of 64."
      ]
    },
    {
      "cell_type": "code",
      "execution_count": 18,
      "metadata": {
        "colab": {
          "base_uri": "https://localhost:8080/",
          "height": 979
        },
        "id": "c3YYuyqqESPB",
        "outputId": "501d7666-a506-4ce1-cf31-ff85ed8fb617"
      },
      "outputs": [
        {
          "name": "stdout",
          "output_type": "stream",
          "text": [
            "Epoch 1/200\n",
            "338/338 [==============================] - 7s 18ms/step - loss: 0.3069 - val_loss: 0.0086\n",
            "Epoch 2/200\n",
            "338/338 [==============================] - 6s 17ms/step - loss: 0.0082 - val_loss: 0.0085\n",
            "Epoch 3/200\n",
            "338/338 [==============================] - 6s 17ms/step - loss: 0.0082 - val_loss: 0.0082\n",
            "Epoch 4/200\n",
            "338/338 [==============================] - 6s 17ms/step - loss: 0.0084 - val_loss: 0.0083\n",
            "Epoch 5/200\n",
            "338/338 [==============================] - 6s 18ms/step - loss: 0.0084 - val_loss: 0.0109\n",
            "Epoch 6/200\n",
            "338/338 [==============================] - 6s 17ms/step - loss: 0.0086 - val_loss: 0.0084\n",
            "Epoch 7/200\n",
            "338/338 [==============================] - 6s 18ms/step - loss: 0.0084 - val_loss: 0.0082\n",
            "Epoch 8/200\n",
            "338/338 [==============================] - 6s 18ms/step - loss: 0.0090 - val_loss: 0.0081\n",
            "Epoch 9/200\n",
            "338/338 [==============================] - 6s 18ms/step - loss: 0.0089 - val_loss: 0.0107\n",
            "Epoch 10/200\n",
            "338/338 [==============================] - 6s 18ms/step - loss: 0.0096 - val_loss: 0.0081\n",
            "Epoch 11/200\n",
            "338/338 [==============================] - 6s 18ms/step - loss: 0.0087 - val_loss: 0.0087\n",
            "Epoch 12/200\n",
            "338/338 [==============================] - 6s 19ms/step - loss: 0.0092 - val_loss: 0.0102\n",
            "Epoch 13/200\n",
            "338/338 [==============================] - 6s 18ms/step - loss: 0.0098 - val_loss: 0.0100\n",
            "Epoch 14/200\n",
            "338/338 [==============================] - 6s 18ms/step - loss: 0.0105 - val_loss: 0.0093\n",
            "Epoch 15/200\n",
            "338/338 [==============================] - 6s 18ms/step - loss: 0.0121 - val_loss: 0.0094\n",
            "Epoch 16/200\n",
            "338/338 [==============================] - 6s 18ms/step - loss: 0.0127 - val_loss: 0.0291\n",
            "Epoch 17/200\n",
            "338/338 [==============================] - 6s 18ms/step - loss: 0.0121 - val_loss: 0.0106\n",
            "Epoch 18/200\n",
            "338/338 [==============================] - 7s 20ms/step - loss: 0.0097 - val_loss: 0.0086\n",
            "Epoch 19/200\n",
            "338/338 [==============================] - 6s 18ms/step - loss: 0.0105 - val_loss: 0.0264\n",
            "Epoch 20/200\n",
            "338/338 [==============================] - 6s 17ms/step - loss: 0.0109 - val_loss: 0.0095\n",
            "Epoch 21/200\n",
            "338/338 [==============================] - 6s 17ms/step - loss: 0.0093 - val_loss: 0.0167\n",
            "Epoch 22/200\n",
            "338/338 [==============================] - 6s 18ms/step - loss: 0.0107 - val_loss: 0.0081\n",
            "Epoch 23/200\n",
            "338/338 [==============================] - 6s 18ms/step - loss: 0.0096 - val_loss: 0.0088\n",
            "Epoch 24/200\n",
            "338/338 [==============================] - 6s 19ms/step - loss: 0.0098 - val_loss: 0.0128\n",
            "Epoch 25/200\n",
            "338/338 [==============================] - 6s 18ms/step - loss: 0.0111 - val_loss: 0.0178\n",
            "Epoch 26/200\n",
            "338/338 [==============================] - 6s 18ms/step - loss: 0.0101 - val_loss: 0.0116\n",
            "Epoch 27/200\n",
            "338/338 [==============================] - 6s 18ms/step - loss: 0.0091 - val_loss: 0.0101\n",
            "Epoch 28/200\n",
            "338/338 [==============================] - 6s 18ms/step - loss: 0.0112 - val_loss: 0.0124\n",
            "Epoch 29/200\n",
            "338/338 [==============================] - 6s 18ms/step - loss: 0.0114 - val_loss: 0.0091\n",
            "Epoch 30/200\n",
            "338/338 [==============================] - 6s 19ms/step - loss: 0.0102 - val_loss: 0.0094\n",
            "Epoch 31/200\n",
            "338/338 [==============================] - 6s 19ms/step - loss: 0.0093 - val_loss: 0.0111\n",
            "Epoch 32/200\n",
            "338/338 [==============================] - 6s 18ms/step - loss: 0.0097 - val_loss: 0.0139\n",
            "Epoch 33/200\n",
            "338/338 [==============================] - 6s 18ms/step - loss: 0.0096 - val_loss: 0.0077\n",
            "Epoch 34/200\n",
            "338/338 [==============================] - 6s 18ms/step - loss: 0.0096 - val_loss: 0.0080\n",
            "Epoch 35/200\n",
            "338/338 [==============================] - 6s 18ms/step - loss: 0.0107 - val_loss: 0.0080\n",
            "Epoch 36/200\n",
            "338/338 [==============================] - 6s 18ms/step - loss: 0.0090 - val_loss: 0.0259\n",
            "Epoch 37/200\n",
            "338/338 [==============================] - 6s 18ms/step - loss: 0.0095 - val_loss: 0.0078\n",
            "Epoch 38/200\n",
            "338/338 [==============================] - 6s 18ms/step - loss: 0.0094 - val_loss: 0.0080\n",
            "Epoch 39/200\n",
            "338/338 [==============================] - 6s 18ms/step - loss: 0.0103 - val_loss: 0.0084\n",
            "Epoch 40/200\n",
            "338/338 [==============================] - 6s 18ms/step - loss: 0.0097 - val_loss: 0.0108\n",
            "Epoch 41/200\n",
            "338/338 [==============================] - 6s 18ms/step - loss: 0.0092 - val_loss: 0.0075\n",
            "Epoch 42/200\n",
            "338/338 [==============================] - 6s 18ms/step - loss: 0.0092 - val_loss: 0.0078\n",
            "Epoch 43/200\n",
            "338/338 [==============================] - 6s 19ms/step - loss: 0.0092 - val_loss: 0.0109\n",
            "Epoch 44/200\n",
            "338/338 [==============================] - 7s 21ms/step - loss: 0.0085 - val_loss: 0.0076\n",
            "Epoch 45/200\n",
            "338/338 [==============================] - 6s 18ms/step - loss: 0.0115 - val_loss: 0.0088\n",
            "Epoch 46/200\n",
            "338/338 [==============================] - 6s 18ms/step - loss: 0.0094 - val_loss: 0.0211\n",
            "Epoch 47/200\n",
            "338/338 [==============================] - 6s 18ms/step - loss: 0.0108 - val_loss: 0.0160\n",
            "Epoch 48/200\n",
            "338/338 [==============================] - 6s 18ms/step - loss: 0.0098 - val_loss: 0.0098\n",
            "Epoch 49/200\n",
            "338/338 [==============================] - 6s 18ms/step - loss: 0.0093 - val_loss: 0.0202\n",
            "Epoch 50/200\n",
            "338/338 [==============================] - 6s 18ms/step - loss: 0.0092 - val_loss: 0.0088\n",
            "Epoch 51/200\n",
            "338/338 [==============================] - 6s 19ms/step - loss: 0.0101 - val_loss: 0.0086\n",
            "Epoch 52/200\n",
            "338/338 [==============================] - 6s 19ms/step - loss: 0.0106 - val_loss: 0.0121\n",
            "Epoch 53/200\n",
            "338/338 [==============================] - 6s 18ms/step - loss: 0.0081 - val_loss: 0.0100\n",
            "Epoch 54/200\n",
            "338/338 [==============================] - 6s 19ms/step - loss: 0.0092 - val_loss: 0.0083\n",
            "Epoch 55/200\n",
            "338/338 [==============================] - 6s 19ms/step - loss: 0.0092 - val_loss: 0.0132\n",
            "Epoch 56/200\n",
            "338/338 [==============================] - 6s 18ms/step - loss: 0.0102 - val_loss: 0.0075\n",
            "Epoch 57/200\n",
            "338/338 [==============================] - 6s 19ms/step - loss: 0.0099 - val_loss: 0.0076\n",
            "Epoch 58/200\n",
            "338/338 [==============================] - 7s 20ms/step - loss: 0.0083 - val_loss: 0.0092\n",
            "Epoch 59/200\n",
            "338/338 [==============================] - 6s 19ms/step - loss: 0.0089 - val_loss: 0.0079\n",
            "Epoch 60/200\n",
            "338/338 [==============================] - 6s 18ms/step - loss: 0.0095 - val_loss: 0.0095\n",
            "Epoch 61/200\n",
            "338/338 [==============================] - 6s 18ms/step - loss: 0.0094 - val_loss: 0.0075\n",
            "Epoch 62/200\n",
            "338/338 [==============================] - 6s 19ms/step - loss: 0.0114 - val_loss: 0.0114\n",
            "Epoch 63/200\n",
            "338/338 [==============================] - 6s 19ms/step - loss: 0.0101 - val_loss: 0.0898\n",
            "Epoch 64/200\n",
            "338/338 [==============================] - 6s 19ms/step - loss: 0.0111 - val_loss: 0.0075\n",
            "Epoch 65/200\n",
            "338/338 [==============================] - 6s 18ms/step - loss: 0.0088 - val_loss: 0.0078\n",
            "Epoch 66/200\n",
            "338/338 [==============================] - 6s 18ms/step - loss: 0.0100 - val_loss: 0.0090\n",
            "Epoch 67/200\n",
            "338/338 [==============================] - 6s 18ms/step - loss: 0.0094 - val_loss: 0.0079\n",
            "Epoch 68/200\n",
            "338/338 [==============================] - 6s 18ms/step - loss: 0.0087 - val_loss: 0.0106\n",
            "Epoch 69/200\n",
            "338/338 [==============================] - 6s 18ms/step - loss: 0.0090 - val_loss: 0.0075\n",
            "Epoch 70/200\n",
            "338/338 [==============================] - 6s 18ms/step - loss: 0.0090 - val_loss: 0.0076\n",
            "Epoch 71/200\n",
            "338/338 [==============================] - 6s 18ms/step - loss: 0.0090 - val_loss: 0.0103\n",
            "Epoch 72/200\n",
            "338/338 [==============================] - 6s 18ms/step - loss: 0.0088 - val_loss: 0.0075\n",
            "Epoch 73/200\n",
            "338/338 [==============================] - 6s 18ms/step - loss: 0.0107 - val_loss: 0.0085\n",
            "Epoch 74/200\n",
            "338/338 [==============================] - 6s 19ms/step - loss: 0.0084 - val_loss: 0.0075\n",
            "Epoch 75/200\n",
            "338/338 [==============================] - 7s 19ms/step - loss: 0.0097 - val_loss: 0.0078\n",
            "Epoch 76/200\n",
            "338/338 [==============================] - 7s 21ms/step - loss: 0.0102 - val_loss: 0.0083\n",
            "Epoch 77/200\n",
            "338/338 [==============================] - 7s 19ms/step - loss: 0.0089 - val_loss: 0.0091\n",
            "Epoch 78/200\n",
            "338/338 [==============================] - 6s 19ms/step - loss: 0.0106 - val_loss: 0.0081\n",
            "Epoch 79/200\n",
            "338/338 [==============================] - 7s 20ms/step - loss: 0.0084 - val_loss: 0.0092\n",
            "Epoch 80/200\n",
            "338/338 [==============================] - 6s 19ms/step - loss: 0.0082 - val_loss: 0.0078\n",
            "Epoch 81/200\n",
            "338/338 [==============================] - 7s 19ms/step - loss: 0.0093 - val_loss: 0.0120\n",
            "Epoch 82/200\n",
            "338/338 [==============================] - 6s 19ms/step - loss: 0.0086 - val_loss: 0.0085\n",
            "Epoch 83/200\n",
            "338/338 [==============================] - 7s 20ms/step - loss: 0.0088 - val_loss: 0.0074\n",
            "Epoch 84/200\n",
            "338/338 [==============================] - 6s 19ms/step - loss: 0.0084 - val_loss: 0.0079\n",
            "Epoch 85/200\n",
            "338/338 [==============================] - 6s 19ms/step - loss: 0.0084 - val_loss: 0.0086\n",
            "Epoch 86/200\n",
            "338/338 [==============================] - 7s 21ms/step - loss: 0.0117 - val_loss: 0.0159\n",
            "Epoch 87/200\n",
            "338/338 [==============================] - 7s 19ms/step - loss: 0.0093 - val_loss: 0.0083\n",
            "Epoch 88/200\n",
            "338/338 [==============================] - 6s 19ms/step - loss: 0.0088 - val_loss: 0.0124\n",
            "Epoch 89/200\n",
            "338/338 [==============================] - 6s 19ms/step - loss: 0.0083 - val_loss: 0.0078\n",
            "Epoch 90/200\n",
            "338/338 [==============================] - 6s 19ms/step - loss: 0.0090 - val_loss: 0.0077\n",
            "Epoch 91/200\n",
            "338/338 [==============================] - 6s 19ms/step - loss: 0.0089 - val_loss: 0.0074\n",
            "Epoch 92/200\n",
            "338/338 [==============================] - 7s 20ms/step - loss: 0.0090 - val_loss: 0.0081\n",
            "Epoch 93/200\n",
            "338/338 [==============================] - 6s 19ms/step - loss: 0.0090 - val_loss: 0.0077\n",
            "Epoch 94/200\n",
            "338/338 [==============================] - 6s 19ms/step - loss: 0.0087 - val_loss: 0.0080\n",
            "Epoch 95/200\n",
            "338/338 [==============================] - 7s 20ms/step - loss: 0.0090 - val_loss: 0.0074\n",
            "Epoch 96/200\n",
            "338/338 [==============================] - 7s 19ms/step - loss: 0.0094 - val_loss: 0.0125\n",
            "Epoch 97/200\n",
            "338/338 [==============================] - 7s 20ms/step - loss: 0.0095 - val_loss: 0.0085\n",
            "Epoch 98/200\n",
            "338/338 [==============================] - 7s 19ms/step - loss: 0.0087 - val_loss: 0.0091\n",
            "Epoch 99/200\n",
            "338/338 [==============================] - 7s 20ms/step - loss: 0.0110 - val_loss: 0.0075\n",
            "Epoch 100/200\n",
            "338/338 [==============================] - 7s 20ms/step - loss: 0.0092 - val_loss: 0.0076\n",
            "Epoch 101/200\n",
            "338/338 [==============================] - 7s 20ms/step - loss: 0.0082 - val_loss: 0.0075\n",
            "Epoch 102/200\n",
            "338/338 [==============================] - 6s 18ms/step - loss: 0.0089 - val_loss: 0.0076\n",
            "Epoch 103/200\n",
            "338/338 [==============================] - 6s 18ms/step - loss: 0.0087 - val_loss: 0.0103\n",
            "Epoch 104/200\n",
            "338/338 [==============================] - 6s 19ms/step - loss: 0.0084 - val_loss: 0.0078\n",
            "Epoch 105/200\n",
            "338/338 [==============================] - 6s 18ms/step - loss: 0.0086 - val_loss: 0.0077\n",
            "Epoch 106/200\n",
            "338/338 [==============================] - 6s 18ms/step - loss: 0.0085 - val_loss: 0.0078\n",
            "Epoch 107/200\n",
            "338/338 [==============================] - 6s 18ms/step - loss: 0.0089 - val_loss: 0.0083\n",
            "Epoch 108/200\n",
            "338/338 [==============================] - 6s 18ms/step - loss: 0.0088 - val_loss: 0.0075\n",
            "Epoch 109/200\n",
            "338/338 [==============================] - 7s 19ms/step - loss: 0.0086 - val_loss: 0.0076\n",
            "Epoch 110/200\n",
            "338/338 [==============================] - 7s 19ms/step - loss: 0.0091 - val_loss: 0.0087\n",
            "Epoch 111/200\n",
            "338/338 [==============================] - 7s 20ms/step - loss: 0.0084 - val_loss: 0.0079\n",
            "Epoch 112/200\n",
            "338/338 [==============================] - 7s 21ms/step - loss: 0.0092 - val_loss: 0.0075\n",
            "Epoch 113/200\n",
            "338/338 [==============================] - 7s 20ms/step - loss: 0.0093 - val_loss: 0.0279\n",
            "Epoch 114/200\n",
            "338/338 [==============================] - 7s 20ms/step - loss: 0.0096 - val_loss: 0.0080\n",
            "Epoch 115/200\n",
            "338/338 [==============================] - 7s 20ms/step - loss: 0.0088 - val_loss: 0.0076\n",
            "Epoch 116/200\n",
            "338/338 [==============================] - 6s 19ms/step - loss: 0.0083 - val_loss: 0.0087\n",
            "Epoch 117/200\n",
            "338/338 [==============================] - 7s 19ms/step - loss: 0.0086 - val_loss: 0.0077\n",
            "Epoch 118/200\n",
            "338/338 [==============================] - 7s 21ms/step - loss: 0.0084 - val_loss: 0.0075\n",
            "Epoch 119/200\n",
            "338/338 [==============================] - 7s 20ms/step - loss: 0.0088 - val_loss: 0.0080\n",
            "Epoch 120/200\n",
            "338/338 [==============================] - 7s 20ms/step - loss: 0.0097 - val_loss: 0.0075\n",
            "Epoch 121/200\n",
            "338/338 [==============================] - 6s 19ms/step - loss: 0.0081 - val_loss: 0.0097\n",
            "Epoch 122/200\n",
            "338/338 [==============================] - 6s 19ms/step - loss: 0.0094 - val_loss: 0.0077\n",
            "Epoch 123/200\n",
            "338/338 [==============================] - 7s 20ms/step - loss: 0.0090 - val_loss: 0.0086\n",
            "Epoch 124/200\n",
            "338/338 [==============================] - 6s 19ms/step - loss: 0.0089 - val_loss: 0.0097\n",
            "Epoch 125/200\n",
            "338/338 [==============================] - 6s 19ms/step - loss: 0.0085 - val_loss: 0.0075\n",
            "Epoch 126/200\n",
            "338/338 [==============================] - 7s 20ms/step - loss: 0.0082 - val_loss: 0.0209\n",
            "Epoch 127/200\n",
            "338/338 [==============================] - 6s 19ms/step - loss: 0.0089 - val_loss: 0.0075\n",
            "Epoch 128/200\n",
            "338/338 [==============================] - 6s 19ms/step - loss: 0.0083 - val_loss: 0.0085\n",
            "Epoch 129/200\n",
            "338/338 [==============================] - 6s 19ms/step - loss: 0.0087 - val_loss: 0.0077\n",
            "Epoch 130/200\n",
            "338/338 [==============================] - 6s 19ms/step - loss: 0.0082 - val_loss: 0.0077\n",
            "Epoch 131/200\n",
            "338/338 [==============================] - 7s 20ms/step - loss: 0.0090 - val_loss: 0.0076\n",
            "Epoch 132/200\n",
            "338/338 [==============================] - 6s 19ms/step - loss: 0.0098 - val_loss: 0.0075\n",
            "Epoch 133/200\n",
            "338/338 [==============================] - 7s 20ms/step - loss: 0.0087 - val_loss: 0.0076\n",
            "Epoch 134/200\n",
            "338/338 [==============================] - 7s 20ms/step - loss: 0.0081 - val_loss: 0.0078\n",
            "Epoch 135/200\n",
            "338/338 [==============================] - 6s 19ms/step - loss: 0.0087 - val_loss: 0.0075\n",
            "Epoch 136/200\n",
            "338/338 [==============================] - 7s 20ms/step - loss: 0.0087 - val_loss: 0.0075\n",
            "Epoch 137/200\n",
            "338/338 [==============================] - 6s 19ms/step - loss: 0.0082 - val_loss: 0.0090\n",
            "Epoch 138/200\n",
            "338/338 [==============================] - 6s 19ms/step - loss: 0.0087 - val_loss: 0.0084\n",
            "Epoch 139/200\n",
            "338/338 [==============================] - 6s 19ms/step - loss: 0.0082 - val_loss: 0.0076\n",
            "Epoch 140/200\n",
            "338/338 [==============================] - 6s 19ms/step - loss: 0.0090 - val_loss: 0.0083\n",
            "Epoch 141/200\n",
            "338/338 [==============================] - 7s 20ms/step - loss: 0.0079 - val_loss: 0.0095\n",
            "Epoch 142/200\n",
            "338/338 [==============================] - 7s 19ms/step - loss: 0.0088 - val_loss: 0.0086\n",
            "Epoch 143/200\n",
            "338/338 [==============================] - 7s 21ms/step - loss: 0.0080 - val_loss: 0.0079\n",
            "Epoch 144/200\n",
            "338/338 [==============================] - 7s 20ms/step - loss: 0.0089 - val_loss: 0.0075\n",
            "Epoch 145/200\n",
            "338/338 [==============================] - 7s 20ms/step - loss: 0.0085 - val_loss: 0.0075\n",
            "Epoch 146/200\n",
            "338/338 [==============================] - 7s 20ms/step - loss: 0.0081 - val_loss: 0.0079\n",
            "Epoch 147/200\n",
            "338/338 [==============================] - 7s 20ms/step - loss: 0.0088 - val_loss: 0.0127\n",
            "Epoch 148/200\n",
            "338/338 [==============================] - 7s 19ms/step - loss: 0.0083 - val_loss: 0.0091\n",
            "Epoch 149/200\n",
            "338/338 [==============================] - 7s 19ms/step - loss: 0.0085 - val_loss: 0.0080\n",
            "Epoch 150/200\n",
            "338/338 [==============================] - 6s 19ms/step - loss: 0.0081 - val_loss: 0.0107\n",
            "Epoch 151/200\n",
            "338/338 [==============================] - 7s 19ms/step - loss: 0.0083 - val_loss: 0.0075\n",
            "Epoch 152/200\n",
            "338/338 [==============================] - 7s 21ms/step - loss: 0.0081 - val_loss: 0.0083\n",
            "Epoch 153/200\n",
            "338/338 [==============================] - 7s 20ms/step - loss: 0.0084 - val_loss: 0.0096\n",
            "Epoch 154/200\n",
            "338/338 [==============================] - 6s 19ms/step - loss: 0.0087 - val_loss: 0.0075\n",
            "Epoch 155/200\n",
            "338/338 [==============================] - 6s 19ms/step - loss: 0.0083 - val_loss: 0.0079\n",
            "Epoch 156/200\n",
            "338/338 [==============================] - 6s 19ms/step - loss: 0.0083 - val_loss: 0.0091\n",
            "Epoch 157/200\n",
            "338/338 [==============================] - 6s 19ms/step - loss: 0.0088 - val_loss: 0.0076\n",
            "Epoch 158/200\n",
            "338/338 [==============================] - 6s 19ms/step - loss: 0.0082 - val_loss: 0.0077\n",
            "Epoch 159/200\n",
            "338/338 [==============================] - 6s 19ms/step - loss: 0.0079 - val_loss: 0.0082\n",
            "Epoch 160/200\n",
            "338/338 [==============================] - 6s 19ms/step - loss: 0.0084 - val_loss: 0.0076\n",
            "Epoch 161/200\n",
            "338/338 [==============================] - 7s 19ms/step - loss: 0.0086 - val_loss: 0.0075\n",
            "Epoch 162/200\n",
            "338/338 [==============================] - 7s 19ms/step - loss: 0.0083 - val_loss: 0.0195\n",
            "Epoch 163/200\n",
            "338/338 [==============================] - 7s 21ms/step - loss: 0.0087 - val_loss: 0.0081\n",
            "Epoch 164/200\n",
            "338/338 [==============================] - 7s 20ms/step - loss: 0.0079 - val_loss: 0.0098\n",
            "Epoch 165/200\n",
            "338/338 [==============================] - 8s 23ms/step - loss: 0.0087 - val_loss: 0.0090\n",
            "Epoch 166/200\n",
            "338/338 [==============================] - 7s 20ms/step - loss: 0.0082 - val_loss: 0.0077\n",
            "Epoch 167/200\n",
            "338/338 [==============================] - 7s 20ms/step - loss: 0.0088 - val_loss: 0.0082\n",
            "Epoch 168/200\n",
            "338/338 [==============================] - 7s 20ms/step - loss: 0.0077 - val_loss: 0.0078\n",
            "Epoch 169/200\n",
            "338/338 [==============================] - 7s 20ms/step - loss: 0.0082 - val_loss: 0.0080\n",
            "Epoch 170/200\n",
            "338/338 [==============================] - 7s 19ms/step - loss: 0.0085 - val_loss: 0.0084\n",
            "Epoch 171/200\n",
            "338/338 [==============================] - 7s 20ms/step - loss: 0.0079 - val_loss: 0.0079\n",
            "Epoch 172/200\n",
            "338/338 [==============================] - 7s 21ms/step - loss: 0.0083 - val_loss: 0.0085\n",
            "Epoch 173/200\n",
            "338/338 [==============================] - 7s 21ms/step - loss: 0.0079 - val_loss: 0.0081\n",
            "Epoch 174/200\n",
            "338/338 [==============================] - 7s 20ms/step - loss: 0.0080 - val_loss: 0.0076\n",
            "Epoch 175/200\n",
            "338/338 [==============================] - 7s 20ms/step - loss: 0.0087 - val_loss: 0.0083\n",
            "Epoch 176/200\n",
            "338/338 [==============================] - 7s 20ms/step - loss: 0.0078 - val_loss: 0.0103\n",
            "Epoch 177/200\n",
            "338/338 [==============================] - 7s 19ms/step - loss: 0.0082 - val_loss: 0.0090\n",
            "Epoch 178/200\n",
            "338/338 [==============================] - 7s 20ms/step - loss: 0.0079 - val_loss: 0.0076\n",
            "Epoch 179/200\n",
            "338/338 [==============================] - 7s 21ms/step - loss: 0.0080 - val_loss: 0.0081\n",
            "Epoch 180/200\n",
            "338/338 [==============================] - 7s 20ms/step - loss: 0.0080 - val_loss: 0.0099\n",
            "Epoch 181/200\n",
            "338/338 [==============================] - 6s 19ms/step - loss: 0.0085 - val_loss: 0.0089\n",
            "Epoch 182/200\n",
            "338/338 [==============================] - 7s 20ms/step - loss: 0.0080 - val_loss: 0.0078\n",
            "Epoch 183/200\n",
            "338/338 [==============================] - 6s 19ms/step - loss: 0.0080 - val_loss: 0.0078\n",
            "Epoch 184/200\n",
            "338/338 [==============================] - 6s 19ms/step - loss: 0.0076 - val_loss: 0.0076\n",
            "Epoch 185/200\n",
            "338/338 [==============================] - 7s 19ms/step - loss: 0.0079 - val_loss: 0.0096\n",
            "Epoch 186/200\n",
            "338/338 [==============================] - 7s 20ms/step - loss: 0.0080 - val_loss: 0.0075\n",
            "Epoch 187/200\n",
            "338/338 [==============================] - 7s 20ms/step - loss: 0.0085 - val_loss: 0.0078\n",
            "Epoch 188/200\n",
            "338/338 [==============================] - 6s 19ms/step - loss: 0.0082 - val_loss: 0.0077\n",
            "Epoch 189/200\n",
            "338/338 [==============================] - 7s 20ms/step - loss: 0.0080 - val_loss: 0.0082\n",
            "Epoch 190/200\n",
            "338/338 [==============================] - 7s 20ms/step - loss: 0.0082 - val_loss: 0.0076\n",
            "Epoch 191/200\n",
            "338/338 [==============================] - 6s 19ms/step - loss: 0.0083 - val_loss: 0.0077\n",
            "Epoch 192/200\n",
            "338/338 [==============================] - 7s 19ms/step - loss: 0.0079 - val_loss: 0.0077\n",
            "Epoch 193/200\n",
            "338/338 [==============================] - 7s 20ms/step - loss: 0.0086 - val_loss: 0.0095\n",
            "Epoch 194/200\n",
            "338/338 [==============================] - 7s 21ms/step - loss: 0.0078 - val_loss: 0.0103\n",
            "Epoch 195/200\n",
            "338/338 [==============================] - 7s 20ms/step - loss: 0.0082 - val_loss: 0.0079\n",
            "Epoch 196/200\n",
            "338/338 [==============================] - 7s 20ms/step - loss: 0.0080 - val_loss: 0.0081\n",
            "Epoch 197/200\n",
            "338/338 [==============================] - 7s 21ms/step - loss: 0.0079 - val_loss: 0.0076\n",
            "Epoch 198/200\n",
            "338/338 [==============================] - 7s 21ms/step - loss: 0.0078 - val_loss: 0.0081\n",
            "Epoch 199/200\n",
            "338/338 [==============================] - 7s 21ms/step - loss: 0.0076 - val_loss: 0.0078\n",
            "Epoch 200/200\n",
            "338/338 [==============================] - 8s 22ms/step - loss: 0.0081 - val_loss: 0.0078\n"
          ]
        },
        {
          "data": {
            "text/plain": [
              "<keras.src.callbacks.History at 0x301b6c5d0>"
            ]
          },
          "execution_count": 18,
          "metadata": {},
          "output_type": "execute_result"
        }
      ],
      "source": [
        "# Train the model\n",
        "model.fit(\n",
        "    {'input_mag': X_train, 'input_depth': depth_train},\n",
        "    y_train,\n",
        "    epochs=200,\n",
        "    batch_size=64,\n",
        "    validation_split=0.1,\n",
        "    verbose=1\n",
        ")"
      ]
    },
    {
      "cell_type": "markdown",
      "metadata": {},
      "source": [
        "## Predict Future Values\n",
        "Use the trained model to predict future earthquake magnitudes based on the last available data points.\n",
        "The function works iteratively by taking the last `time_steps` values, making a prediction, and updating the input sequence for the next step."
      ]
    },
    {
      "cell_type": "code",
      "execution_count": 19,
      "metadata": {
        "id": "OlvP-J0eEV7t"
      },
      "outputs": [],
      "source": [
        "# Function to predict future values\n",
        "def predict_future(model, X, depth, time_steps, future_steps):\n",
        "    future_predictions = []\n",
        "    current_batch = X[-1].reshape(1, time_steps, X.shape[2])\n",
        "    current_depth = depth[-1]  # Get the last depth value\n",
        "    for i in range(future_steps):\n",
        "        future_pred = model.predict({\n",
        "            'input_mag': current_batch,\n",
        "            'input_depth': np.array([[current_depth]])\n",
        "        })[0][0]\n",
        "        future_predictions.append(future_pred)\n",
        "        # Update the input sequence: shift left and add the new prediction at the end\n",
        "        current_batch = np.roll(current_batch, -1, axis=1)\n",
        "        current_batch[0, -1, 0] = future_pred\n",
        "    return future_predictions"
      ]
    },
    {
      "cell_type": "code",
      "execution_count": 20,
      "metadata": {
        "id": "1Mog2NxSEYdH"
      },
      "outputs": [
        {
          "name": "stdout",
          "output_type": "stream",
          "text": [
            "1/1 [==============================] - 1s 551ms/step\n",
            "1/1 [==============================] - 0s 16ms/step\n",
            "1/1 [==============================] - 0s 13ms/step\n",
            "1/1 [==============================] - 0s 12ms/step\n",
            "1/1 [==============================] - 0s 13ms/step\n",
            "1/1 [==============================] - 0s 12ms/step\n",
            "1/1 [==============================] - 0s 13ms/step\n",
            "1/1 [==============================] - 0s 11ms/step\n",
            "1/1 [==============================] - 0s 12ms/step\n",
            "1/1 [==============================] - 0s 11ms/step\n",
            "1/1 [==============================] - 0s 13ms/step\n",
            "1/1 [==============================] - 0s 13ms/step\n",
            "1/1 [==============================] - 0s 12ms/step\n",
            "1/1 [==============================] - 0s 13ms/step\n",
            "1/1 [==============================] - 0s 11ms/step\n",
            "1/1 [==============================] - 0s 11ms/step\n",
            "1/1 [==============================] - 0s 13ms/step\n",
            "1/1 [==============================] - 0s 13ms/step\n",
            "1/1 [==============================] - 0s 12ms/step\n",
            "1/1 [==============================] - 0s 12ms/step\n",
            "1/1 [==============================] - 0s 11ms/step\n",
            "1/1 [==============================] - 0s 11ms/step\n",
            "1/1 [==============================] - 0s 12ms/step\n",
            "1/1 [==============================] - 0s 13ms/step\n",
            "1/1 [==============================] - 0s 13ms/step\n",
            "1/1 [==============================] - 0s 13ms/step\n",
            "1/1 [==============================] - 0s 13ms/step\n",
            "1/1 [==============================] - 0s 11ms/step\n",
            "1/1 [==============================] - 0s 11ms/step\n",
            "1/1 [==============================] - 0s 11ms/step\n",
            "1/1 [==============================] - 0s 12ms/step\n",
            "1/1 [==============================] - 0s 12ms/step\n",
            "1/1 [==============================] - 0s 11ms/step\n",
            "1/1 [==============================] - 0s 11ms/step\n",
            "1/1 [==============================] - 0s 12ms/step\n",
            "1/1 [==============================] - 0s 11ms/step\n",
            "1/1 [==============================] - 0s 12ms/step\n",
            "1/1 [==============================] - 0s 14ms/step\n",
            "1/1 [==============================] - 0s 14ms/step\n",
            "1/1 [==============================] - 0s 14ms/step\n",
            "1/1 [==============================] - 0s 13ms/step\n",
            "1/1 [==============================] - 0s 13ms/step\n",
            "1/1 [==============================] - 0s 13ms/step\n",
            "1/1 [==============================] - 0s 12ms/step\n",
            "1/1 [==============================] - 0s 11ms/step\n",
            "1/1 [==============================] - 0s 12ms/step\n",
            "1/1 [==============================] - 0s 13ms/step\n",
            "1/1 [==============================] - 0s 12ms/step\n",
            "1/1 [==============================] - 0s 11ms/step\n",
            "1/1 [==============================] - 0s 11ms/step\n",
            "1/1 [==============================] - 0s 12ms/step\n",
            "1/1 [==============================] - 0s 11ms/step\n",
            "1/1 [==============================] - 0s 11ms/step\n",
            "1/1 [==============================] - 0s 11ms/step\n",
            "1/1 [==============================] - 0s 12ms/step\n",
            "1/1 [==============================] - 0s 11ms/step\n",
            "1/1 [==============================] - 0s 12ms/step\n",
            "1/1 [==============================] - 0s 11ms/step\n",
            "1/1 [==============================] - 0s 12ms/step\n",
            "1/1 [==============================] - 0s 12ms/step\n"
          ]
        }
      ],
      "source": [
        "# Predict the next 60 time steps\n",
        "future_predictions = predict_future(model, X_test, depth_test, TIME_STEPS, 60)"
      ]
    },
    {
      "cell_type": "code",
      "execution_count": 21,
      "metadata": {
        "id": "WnBilxL-Ea7d"
      },
      "outputs": [],
      "source": [
        "# Inverse-transform the predicted magnitude values back to the original scale\n",
        "future_predictions = scaler.inverse_transform(np.array(future_predictions).reshape(-1, 1))"
      ]
    },
    {
      "cell_type": "code",
      "execution_count": 22,
      "metadata": {
        "id": "ti1TWIU3EeD9"
      },
      "outputs": [
        {
          "name": "stdout",
          "output_type": "stream",
          "text": [
            "Future Predictions:\n",
            "[[3.7174528]\n",
            " [3.674605 ]\n",
            " [3.6834123]\n",
            " [3.6758153]\n",
            " [3.6947496]\n",
            " [3.772767 ]\n",
            " [3.8161795]\n",
            " [3.845661 ]\n",
            " [3.8588755]\n",
            " [3.8343587]\n",
            " [3.8688438]\n",
            " [3.8896554]\n",
            " [3.9167974]\n",
            " [3.9492674]\n",
            " [3.9855626]\n",
            " [4.0142746]\n",
            " [4.0384245]\n",
            " [4.0603476]\n",
            " [4.082433 ]\n",
            " [4.1084814]\n",
            " [4.133919 ]\n",
            " [4.1590567]\n",
            " [4.182765 ]\n",
            " [4.2041306]\n",
            " [4.222843 ]\n",
            " [4.239819 ]\n",
            " [4.255514 ]\n",
            " [4.2701015]\n",
            " [4.2835455]\n",
            " [4.2956448]\n",
            " [4.306393 ]\n",
            " [4.3158746]\n",
            " [4.324244 ]\n",
            " [4.3316684]\n",
            " [4.338281 ]\n",
            " [4.34417  ]\n",
            " [4.349403 ]\n",
            " [4.354047 ]\n",
            " [4.358161 ]\n",
            " [4.361806 ]\n",
            " [4.3650384]\n",
            " [4.3679037]\n",
            " [4.3704476]\n",
            " [4.372706 ]\n",
            " [4.374714 ]\n",
            " [4.376499 ]\n",
            " [4.3780837]\n",
            " [4.379495 ]\n",
            " [4.380748 ]\n",
            " [4.3818626]\n",
            " [4.3828506]\n",
            " [4.383733 ]\n",
            " [4.3845196]\n",
            " [4.385218 ]\n",
            " [4.3858395]\n",
            " [4.3863935]\n",
            " [4.3868837]\n",
            " [4.387325 ]\n",
            " [4.387713 ]\n",
            " [4.3880625]]\n"
          ]
        }
      ],
      "source": [
        "print(\"Future Predictions:\")\n",
        "print(future_predictions)"
      ]
    },
    {
      "cell_type": "code",
      "execution_count": 23,
      "metadata": {
        "id": "eE1X0bZHEewg"
      },
      "outputs": [],
      "source": [
        "# Retrieve the actual magnitude values for comparison (last values from the dataset)\n",
        "actual_values = data[['mag']].iloc[-len(future_predictions):]\n",
        "# Inverse transform the actual values to match the original scale\n",
        "actual_values = scaler.inverse_transform(actual_values)"
      ]
    },
    {
      "cell_type": "code",
      "execution_count": 24,
      "metadata": {
        "id": "T8-yrp3iEhk9"
      },
      "outputs": [],
      "source": [
        "# Calculate prediction errors (Actual - Predicted)\n",
        "prediction_errors = actual_values - future_predictions"
      ]
    },
    {
      "cell_type": "markdown",
      "metadata": {},
      "source": [
        "## Evaluate the Model\n",
        "Evaluate the accuracy of predictions using error metrics:\n",
        "- **MSE (Mean Squared Error)**: Measures average squared error.\n",
        "- **RMSE (Root Mean Squared Error)**: Provides an error estimate in the same unit as the target variable.\n",
        "- **MAE (Mean Absolute Error)**: Measures average absolute differences."
      ]
    },
    {
      "cell_type": "code",
      "execution_count": 25,
      "metadata": {
        "id": "Y9G6i3s9EiP5"
      },
      "outputs": [
        {
          "name": "stdout",
          "output_type": "stream",
          "text": [
            "MSE (Mean Squared Error): 0.9675337042228062\n",
            "RMSE (Root Mean Squared Error): 0.9836329113153983\n",
            "MAE (Mean Absolute Error): 0.8223957022031149\n"
          ]
        }
      ],
      "source": [
        "# Evaluate predictions using MSE, RMSE, and MAE\n",
        "def evaluate_predictions(y_true, y_pred):\n",
        "    mse = mean_squared_error(y_true, y_pred)\n",
        "    rmse = np.sqrt(mse)\n",
        "    mae = mean_absolute_error(y_true, y_pred)\n",
        "    return mse, rmse, mae\n",
        "\n",
        "mse, rmse, mae = evaluate_predictions(actual_values, future_predictions)\n",
        "print(\"MSE (Mean Squared Error):\", mse)\n",
        "print(\"RMSE (Root Mean Squared Error):\", rmse)\n",
        "print(\"MAE (Mean Absolute Error):\", mae)"
      ]
    },
    {
      "cell_type": "markdown",
      "metadata": {},
      "source": [
        "## Interpretation of Model Performance\n",
        "- The MSE value (0.9675) indicates the average squared difference between actual and predicted values, meaning there is a moderate level of error.\n",
        "- RMSE (0.9836) gives an idea of the standard deviation of the prediction errors, showing that the model's predictions deviate from actual values by approximately this amount.\n",
        "- MAE (0.8224) suggests that on average, the predicted magnitudes differ from actual magnitudes by around 0.82 units.\n",
        "\n",
        "These values indicate that while the model is making reasonable predictions, there is room for improvement, possibly by fine-tuning hyperparameters, increasing dataset size, or adding more relevant features."
      ]
    },
    {
      "cell_type": "markdown",
      "metadata": {},
      "source": [
        "## Visualize Results\n",
        "Generate plots to compare actual vs predicted values and visualize prediction errors."
      ]
    },
    {
      "cell_type": "code",
      "execution_count": 26,
      "metadata": {
        "id": "9AO0NslzEkBP"
      },
      "outputs": [
        {
          "data": {
            "image/png": "[encoded data removed]",
            "text/plain": [
              "<Figure size 1000x600 with 1 Axes>"
            ]
          },
          "metadata": {},
          "output_type": "display_data"
        }
      ],
      "source": [
        "# Visualize the actual vs. predicted values\n",
        "plt.figure(figsize=(10, 6))\n",
        "plt.plot(actual_values, label='Actual Values', color='blue', marker='o')\n",
        "plt.plot(future_predictions, label='Predicted Values', color='red', marker='o')\n",
        "plt.xlabel('Index')\n",
        "plt.ylabel('Magnitude')\n",
        "plt.title('Actual vs Predicted Earthquake Magnitude')\n",
        "plt.legend()\n",
        "plt.grid(True)\n",
        "plt.show()"
      ]
    },
    {
      "cell_type": "code",
      "execution_count": 27,
      "metadata": {
        "id": "qDvvKguKEqkw"
      },
      "outputs": [
        {
          "data": {
            "image/png": "[encoded data removed]",
            "text/plain": [
              "<Figure size 1000x600 with 1 Axes>"
            ]
          },
          "metadata": {},
          "output_type": "display_data"
        }
      ],
      "source": [
        "# Visualize the prediction errors\n",
        "plt.figure(figsize=(10, 6))\n",
        "plt.plot(prediction_errors, label='Prediction Error', color='green', marker='o')\n",
        "plt.axhline(y=0, color='black', linestyle='--')\n",
        "plt.xlabel('Index')\n",
        "plt.ylabel('Error (Actual - Predicted)')\n",
        "plt.title('Prediction Errors')\n",
        "plt.legend()\n",
        "plt.grid(True)\n",
        "plt.show()"
      ]
    }
  ],
  "metadata": {
    "colab": {
      "provenance": []
    },
    "kernelspec": {
      "display_name": ".venv",
      "language": "python",
      "name": "python3"
    },
    "language_info": {
      "codemirror_mode": {
        "name": "ipython",
        "version": 3
      },
      "file_extension": ".py",
      "mimetype": "text/x-python",
      "name": "python",
      "nbconvert_exporter": "python",
      "pygments_lexer": "ipython3",
      "version": "3.11.7"
    }
  },
  "nbformat": 4,
  "nbformat_minor": 0
}
